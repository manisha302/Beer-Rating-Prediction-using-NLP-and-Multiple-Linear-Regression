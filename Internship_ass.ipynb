{
  "nbformat": 4,
  "nbformat_minor": 0,
  "metadata": {
    "colab": {
      "name": "Internship_ass",
      "provenance": [],
      "collapsed_sections": [],
      "toc_visible": true
    },
    "kernelspec": {
      "display_name": "Python 3",
      "name": "python3"
    }
  },
  "cells": [
    {
      "cell_type": "code",
      "metadata": {
        "id": "NsXvHsowrYeC"
      },
      "source": [
        "import pandas as pd\n",
        "import numpy as np\n",
        "import nltk\n",
        "import re\n",
        "import string\n",
        "from sklearn.model_selection import train_test_split\n",
        "from sklearn.linear_model import LinearRegression\n",
        "from nltk.corpus import stopwords \n",
        "from sklearn.metrics import mean_absolute_error, mean_squared_error\n",
        "from nltk.tokenize import word_tokenize\n",
        "from nltk.stem import PorterStemmer\n",
        "from nltk.stem import WordNetLemmatizer\n",
        "from sklearn.feature_extraction.text import TfidfVectorizer\n",
        "from sklearn.metrics import accuracy_score\n",
        "from sklearn.linear_model import PassiveAggressiveClassifier\n",
        "from sklearn.naive_bayes import MultinomialNB\n",
        "from sklearn import svm"
      ],
      "execution_count": 2,
      "outputs": []
    },
    {
      "cell_type": "code",
      "metadata": {
        "colab": {
          "base_uri": "https://localhost:8080/",
          "height": 539
        },
        "id": "DWrF_ROOsN_A",
        "outputId": "7fe7e721-cddc-4480-bbcc-fe39ce1064f7"
      },
      "source": [
        "data= pd.read_csv(\"/train.csv\")\n",
        "data.head()"
      ],
      "execution_count": 3,
      "outputs": [
        {
          "output_type": "execute_result",
          "data": {
            "text/html": [
              "<div>\n",
              "<style scoped>\n",
              "    .dataframe tbody tr th:only-of-type {\n",
              "        vertical-align: middle;\n",
              "    }\n",
              "\n",
              "    .dataframe tbody tr th {\n",
              "        vertical-align: top;\n",
              "    }\n",
              "\n",
              "    .dataframe thead th {\n",
              "        text-align: right;\n",
              "    }\n",
              "</style>\n",
              "<table border=\"1\" class=\"dataframe\">\n",
              "  <thead>\n",
              "    <tr style=\"text-align: right;\">\n",
              "      <th></th>\n",
              "      <th>index</th>\n",
              "      <th>beer/ABV</th>\n",
              "      <th>beer/beerId</th>\n",
              "      <th>beer/brewerId</th>\n",
              "      <th>beer/name</th>\n",
              "      <th>beer/style</th>\n",
              "      <th>review/appearance</th>\n",
              "      <th>review/aroma</th>\n",
              "      <th>review/overall</th>\n",
              "      <th>review/palate</th>\n",
              "      <th>review/taste</th>\n",
              "      <th>review/text</th>\n",
              "      <th>review/timeStruct</th>\n",
              "      <th>review/timeUnix</th>\n",
              "      <th>user/ageInSeconds</th>\n",
              "      <th>user/birthdayRaw</th>\n",
              "      <th>user/birthdayUnix</th>\n",
              "      <th>user/gender</th>\n",
              "      <th>user/profileName</th>\n",
              "    </tr>\n",
              "  </thead>\n",
              "  <tbody>\n",
              "    <tr>\n",
              "      <th>0</th>\n",
              "      <td>40163</td>\n",
              "      <td>5.0</td>\n",
              "      <td>46634</td>\n",
              "      <td>14338</td>\n",
              "      <td>Chiostro</td>\n",
              "      <td>Herbed / Spiced Beer</td>\n",
              "      <td>4.0</td>\n",
              "      <td>4.0</td>\n",
              "      <td>4.0</td>\n",
              "      <td>4.0</td>\n",
              "      <td>4.0</td>\n",
              "      <td>Pours a clouded gold with a thin white head. N...</td>\n",
              "      <td>{'min': 38, 'hour': 3, 'mday': 16, 'sec': 10, ...</td>\n",
              "      <td>1229398690</td>\n",
              "      <td>NaN</td>\n",
              "      <td>NaN</td>\n",
              "      <td>NaN</td>\n",
              "      <td>NaN</td>\n",
              "      <td>RblWthACoz</td>\n",
              "    </tr>\n",
              "    <tr>\n",
              "      <th>1</th>\n",
              "      <td>8135</td>\n",
              "      <td>11.0</td>\n",
              "      <td>3003</td>\n",
              "      <td>395</td>\n",
              "      <td>Bearded Pat's Barleywine</td>\n",
              "      <td>American Barleywine</td>\n",
              "      <td>4.0</td>\n",
              "      <td>3.5</td>\n",
              "      <td>3.5</td>\n",
              "      <td>3.5</td>\n",
              "      <td>3.0</td>\n",
              "      <td>12oz bottle into 8oz snifter.\\t\\tDeep ruby red...</td>\n",
              "      <td>{'min': 38, 'hour': 23, 'mday': 8, 'sec': 58, ...</td>\n",
              "      <td>1218238738</td>\n",
              "      <td>NaN</td>\n",
              "      <td>NaN</td>\n",
              "      <td>NaN</td>\n",
              "      <td>NaN</td>\n",
              "      <td>BeerSox</td>\n",
              "    </tr>\n",
              "    <tr>\n",
              "      <th>2</th>\n",
              "      <td>10529</td>\n",
              "      <td>4.7</td>\n",
              "      <td>961</td>\n",
              "      <td>365</td>\n",
              "      <td>Naughty Nellie's Ale</td>\n",
              "      <td>American Pale Ale (APA)</td>\n",
              "      <td>3.5</td>\n",
              "      <td>4.0</td>\n",
              "      <td>3.5</td>\n",
              "      <td>3.5</td>\n",
              "      <td>3.5</td>\n",
              "      <td>First enjoyed at the brewpub about 2 years ago...</td>\n",
              "      <td>{'min': 7, 'hour': 18, 'mday': 26, 'sec': 2, '...</td>\n",
              "      <td>1101492422</td>\n",
              "      <td>NaN</td>\n",
              "      <td>NaN</td>\n",
              "      <td>NaN</td>\n",
              "      <td>Male</td>\n",
              "      <td>mschofield</td>\n",
              "    </tr>\n",
              "    <tr>\n",
              "      <th>3</th>\n",
              "      <td>44610</td>\n",
              "      <td>4.4</td>\n",
              "      <td>429</td>\n",
              "      <td>1</td>\n",
              "      <td>Pilsner Urquell</td>\n",
              "      <td>Czech Pilsener</td>\n",
              "      <td>3.0</td>\n",
              "      <td>3.0</td>\n",
              "      <td>2.5</td>\n",
              "      <td>3.0</td>\n",
              "      <td>3.0</td>\n",
              "      <td>First thing I noticed after pouring from green...</td>\n",
              "      <td>{'min': 7, 'hour': 1, 'mday': 20, 'sec': 5, 'y...</td>\n",
              "      <td>1308532025</td>\n",
              "      <td>1.209827e+09</td>\n",
              "      <td>Aug 10, 1976</td>\n",
              "      <td>208508400.0</td>\n",
              "      <td>Male</td>\n",
              "      <td>molegar76</td>\n",
              "    </tr>\n",
              "    <tr>\n",
              "      <th>4</th>\n",
              "      <td>37062</td>\n",
              "      <td>4.4</td>\n",
              "      <td>4904</td>\n",
              "      <td>1417</td>\n",
              "      <td>Black Sheep Ale (Special)</td>\n",
              "      <td>English Pale Ale</td>\n",
              "      <td>4.0</td>\n",
              "      <td>3.0</td>\n",
              "      <td>3.0</td>\n",
              "      <td>3.5</td>\n",
              "      <td>2.5</td>\n",
              "      <td>A: pours an amber with a one finger head but o...</td>\n",
              "      <td>{'min': 51, 'hour': 6, 'mday': 12, 'sec': 48, ...</td>\n",
              "      <td>1299912708</td>\n",
              "      <td>NaN</td>\n",
              "      <td>NaN</td>\n",
              "      <td>NaN</td>\n",
              "      <td>NaN</td>\n",
              "      <td>Brewbro000</td>\n",
              "    </tr>\n",
              "  </tbody>\n",
              "</table>\n",
              "</div>"
            ],
            "text/plain": [
              "   index  beer/ABV  beer/beerId  ...  user/birthdayUnix user/gender user/profileName\n",
              "0  40163       5.0        46634  ...                NaN         NaN       RblWthACoz\n",
              "1   8135      11.0         3003  ...                NaN         NaN          BeerSox\n",
              "2  10529       4.7          961  ...                NaN        Male       mschofield\n",
              "3  44610       4.4          429  ...        208508400.0        Male        molegar76\n",
              "4  37062       4.4         4904  ...                NaN         NaN       Brewbro000\n",
              "\n",
              "[5 rows x 19 columns]"
            ]
          },
          "metadata": {
            "tags": []
          },
          "execution_count": 3
        }
      ]
    },
    {
      "cell_type": "markdown",
      "metadata": {
        "id": "Ct2qnNgfkBW8"
      },
      "source": [
        "descriptive statistics of whole data\n"
      ]
    },
    {
      "cell_type": "code",
      "metadata": {
        "colab": {
          "base_uri": "https://localhost:8080/",
          "height": 320
        },
        "id": "GngmXrkEhVlw",
        "outputId": "a9225fa3-829e-421b-b113-bb5e987b1bfa"
      },
      "source": [
        "data.describe()"
      ],
      "execution_count": 4,
      "outputs": [
        {
          "output_type": "execute_result",
          "data": {
            "text/html": [
              "<div>\n",
              "<style scoped>\n",
              "    .dataframe tbody tr th:only-of-type {\n",
              "        vertical-align: middle;\n",
              "    }\n",
              "\n",
              "    .dataframe tbody tr th {\n",
              "        vertical-align: top;\n",
              "    }\n",
              "\n",
              "    .dataframe thead th {\n",
              "        text-align: right;\n",
              "    }\n",
              "</style>\n",
              "<table border=\"1\" class=\"dataframe\">\n",
              "  <thead>\n",
              "    <tr style=\"text-align: right;\">\n",
              "      <th></th>\n",
              "      <th>index</th>\n",
              "      <th>beer/ABV</th>\n",
              "      <th>beer/beerId</th>\n",
              "      <th>beer/brewerId</th>\n",
              "      <th>review/appearance</th>\n",
              "      <th>review/aroma</th>\n",
              "      <th>review/overall</th>\n",
              "      <th>review/palate</th>\n",
              "      <th>review/taste</th>\n",
              "      <th>review/timeUnix</th>\n",
              "      <th>user/ageInSeconds</th>\n",
              "      <th>user/birthdayUnix</th>\n",
              "    </tr>\n",
              "  </thead>\n",
              "  <tbody>\n",
              "    <tr>\n",
              "      <th>count</th>\n",
              "      <td>37500.000000</td>\n",
              "      <td>37500.000000</td>\n",
              "      <td>37500.000000</td>\n",
              "      <td>37500.000000</td>\n",
              "      <td>37500.000000</td>\n",
              "      <td>37500.000000</td>\n",
              "      <td>37500.00000</td>\n",
              "      <td>37500.000000</td>\n",
              "      <td>37500.000000</td>\n",
              "      <td>3.750000e+04</td>\n",
              "      <td>7.856000e+03</td>\n",
              "      <td>7.856000e+03</td>\n",
              "    </tr>\n",
              "    <tr>\n",
              "      <th>mean</th>\n",
              "      <td>24951.887573</td>\n",
              "      <td>7.403725</td>\n",
              "      <td>21861.152027</td>\n",
              "      <td>3036.595120</td>\n",
              "      <td>3.900053</td>\n",
              "      <td>3.873240</td>\n",
              "      <td>3.88944</td>\n",
              "      <td>3.854867</td>\n",
              "      <td>3.922440</td>\n",
              "      <td>1.232794e+09</td>\n",
              "      <td>1.176705e+09</td>\n",
              "      <td>2.416303e+08</td>\n",
              "    </tr>\n",
              "    <tr>\n",
              "      <th>std</th>\n",
              "      <td>14434.009669</td>\n",
              "      <td>2.318145</td>\n",
              "      <td>18923.130832</td>\n",
              "      <td>5123.084675</td>\n",
              "      <td>0.588778</td>\n",
              "      <td>0.680865</td>\n",
              "      <td>0.70045</td>\n",
              "      <td>0.668068</td>\n",
              "      <td>0.716504</td>\n",
              "      <td>7.190955e+07</td>\n",
              "      <td>3.375514e+08</td>\n",
              "      <td>3.375514e+08</td>\n",
              "    </tr>\n",
              "    <tr>\n",
              "      <th>min</th>\n",
              "      <td>0.000000</td>\n",
              "      <td>0.100000</td>\n",
              "      <td>175.000000</td>\n",
              "      <td>1.000000</td>\n",
              "      <td>0.000000</td>\n",
              "      <td>1.000000</td>\n",
              "      <td>0.00000</td>\n",
              "      <td>1.000000</td>\n",
              "      <td>1.000000</td>\n",
              "      <td>9.262944e+08</td>\n",
              "      <td>7.034366e+08</td>\n",
              "      <td>-2.208960e+09</td>\n",
              "    </tr>\n",
              "    <tr>\n",
              "      <th>25%</th>\n",
              "      <td>12422.500000</td>\n",
              "      <td>5.400000</td>\n",
              "      <td>5441.000000</td>\n",
              "      <td>395.000000</td>\n",
              "      <td>3.500000</td>\n",
              "      <td>3.500000</td>\n",
              "      <td>3.50000</td>\n",
              "      <td>3.500000</td>\n",
              "      <td>3.500000</td>\n",
              "      <td>1.189194e+09</td>\n",
              "      <td>9.794810e+08</td>\n",
              "      <td>1.433628e+08</td>\n",
              "    </tr>\n",
              "    <tr>\n",
              "      <th>50%</th>\n",
              "      <td>24942.500000</td>\n",
              "      <td>6.900000</td>\n",
              "      <td>17538.000000</td>\n",
              "      <td>1199.000000</td>\n",
              "      <td>4.000000</td>\n",
              "      <td>4.000000</td>\n",
              "      <td>4.00000</td>\n",
              "      <td>4.000000</td>\n",
              "      <td>4.000000</td>\n",
              "      <td>1.248150e+09</td>\n",
              "      <td>1.100009e+09</td>\n",
              "      <td>3.183264e+08</td>\n",
              "    </tr>\n",
              "    <tr>\n",
              "      <th>75%</th>\n",
              "      <td>37416.750000</td>\n",
              "      <td>9.400000</td>\n",
              "      <td>34146.000000</td>\n",
              "      <td>1315.000000</td>\n",
              "      <td>4.500000</td>\n",
              "      <td>4.500000</td>\n",
              "      <td>4.50000</td>\n",
              "      <td>4.500000</td>\n",
              "      <td>4.500000</td>\n",
              "      <td>1.291330e+09</td>\n",
              "      <td>1.274973e+09</td>\n",
              "      <td>4.388544e+08</td>\n",
              "    </tr>\n",
              "    <tr>\n",
              "      <th>max</th>\n",
              "      <td>49999.000000</td>\n",
              "      <td>57.700000</td>\n",
              "      <td>77207.000000</td>\n",
              "      <td>27797.000000</td>\n",
              "      <td>5.000000</td>\n",
              "      <td>5.000000</td>\n",
              "      <td>5.00000</td>\n",
              "      <td>5.000000</td>\n",
              "      <td>5.000000</td>\n",
              "      <td>1.326267e+09</td>\n",
              "      <td>3.627295e+09</td>\n",
              "      <td>7.148988e+08</td>\n",
              "    </tr>\n",
              "  </tbody>\n",
              "</table>\n",
              "</div>"
            ],
            "text/plain": [
              "              index      beer/ABV  ...  user/ageInSeconds  user/birthdayUnix\n",
              "count  37500.000000  37500.000000  ...       7.856000e+03       7.856000e+03\n",
              "mean   24951.887573      7.403725  ...       1.176705e+09       2.416303e+08\n",
              "std    14434.009669      2.318145  ...       3.375514e+08       3.375514e+08\n",
              "min        0.000000      0.100000  ...       7.034366e+08      -2.208960e+09\n",
              "25%    12422.500000      5.400000  ...       9.794810e+08       1.433628e+08\n",
              "50%    24942.500000      6.900000  ...       1.100009e+09       3.183264e+08\n",
              "75%    37416.750000      9.400000  ...       1.274973e+09       4.388544e+08\n",
              "max    49999.000000     57.700000  ...       3.627295e+09       7.148988e+08\n",
              "\n",
              "[8 rows x 12 columns]"
            ]
          },
          "metadata": {
            "tags": []
          },
          "execution_count": 4
        }
      ]
    },
    {
      "cell_type": "markdown",
      "metadata": {
        "id": "XjgKUCdLkOVF"
      },
      "source": [
        "DROPPING UNNECESSARY COLUMN"
      ]
    },
    {
      "cell_type": "code",
      "metadata": {
        "colab": {
          "base_uri": "https://localhost:8080/",
          "height": 1000
        },
        "id": "Ji17ZM8osjqz",
        "outputId": "af477f02-4b1a-40d9-a580-a7f43878faf7"
      },
      "source": [
        "df = data.drop(['review/timeStruct','review/timeUnix','user/ageInSeconds','user/birthdayRaw','user/birthdayUnix','user/gender','user/profileName','beer/brewerId','beer/beerId'],axis=1)\n",
        "df"
      ],
      "execution_count": 5,
      "outputs": [
        {
          "output_type": "execute_result",
          "data": {
            "text/html": [
              "<div>\n",
              "<style scoped>\n",
              "    .dataframe tbody tr th:only-of-type {\n",
              "        vertical-align: middle;\n",
              "    }\n",
              "\n",
              "    .dataframe tbody tr th {\n",
              "        vertical-align: top;\n",
              "    }\n",
              "\n",
              "    .dataframe thead th {\n",
              "        text-align: right;\n",
              "    }\n",
              "</style>\n",
              "<table border=\"1\" class=\"dataframe\">\n",
              "  <thead>\n",
              "    <tr style=\"text-align: right;\">\n",
              "      <th></th>\n",
              "      <th>index</th>\n",
              "      <th>beer/ABV</th>\n",
              "      <th>beer/name</th>\n",
              "      <th>beer/style</th>\n",
              "      <th>review/appearance</th>\n",
              "      <th>review/aroma</th>\n",
              "      <th>review/overall</th>\n",
              "      <th>review/palate</th>\n",
              "      <th>review/taste</th>\n",
              "      <th>review/text</th>\n",
              "    </tr>\n",
              "  </thead>\n",
              "  <tbody>\n",
              "    <tr>\n",
              "      <th>0</th>\n",
              "      <td>40163</td>\n",
              "      <td>5.00</td>\n",
              "      <td>Chiostro</td>\n",
              "      <td>Herbed / Spiced Beer</td>\n",
              "      <td>4.0</td>\n",
              "      <td>4.0</td>\n",
              "      <td>4.0</td>\n",
              "      <td>4.0</td>\n",
              "      <td>4.0</td>\n",
              "      <td>Pours a clouded gold with a thin white head. N...</td>\n",
              "    </tr>\n",
              "    <tr>\n",
              "      <th>1</th>\n",
              "      <td>8135</td>\n",
              "      <td>11.00</td>\n",
              "      <td>Bearded Pat's Barleywine</td>\n",
              "      <td>American Barleywine</td>\n",
              "      <td>4.0</td>\n",
              "      <td>3.5</td>\n",
              "      <td>3.5</td>\n",
              "      <td>3.5</td>\n",
              "      <td>3.0</td>\n",
              "      <td>12oz bottle into 8oz snifter.\\t\\tDeep ruby red...</td>\n",
              "    </tr>\n",
              "    <tr>\n",
              "      <th>2</th>\n",
              "      <td>10529</td>\n",
              "      <td>4.70</td>\n",
              "      <td>Naughty Nellie's Ale</td>\n",
              "      <td>American Pale Ale (APA)</td>\n",
              "      <td>3.5</td>\n",
              "      <td>4.0</td>\n",
              "      <td>3.5</td>\n",
              "      <td>3.5</td>\n",
              "      <td>3.5</td>\n",
              "      <td>First enjoyed at the brewpub about 2 years ago...</td>\n",
              "    </tr>\n",
              "    <tr>\n",
              "      <th>3</th>\n",
              "      <td>44610</td>\n",
              "      <td>4.40</td>\n",
              "      <td>Pilsner Urquell</td>\n",
              "      <td>Czech Pilsener</td>\n",
              "      <td>3.0</td>\n",
              "      <td>3.0</td>\n",
              "      <td>2.5</td>\n",
              "      <td>3.0</td>\n",
              "      <td>3.0</td>\n",
              "      <td>First thing I noticed after pouring from green...</td>\n",
              "    </tr>\n",
              "    <tr>\n",
              "      <th>4</th>\n",
              "      <td>37062</td>\n",
              "      <td>4.40</td>\n",
              "      <td>Black Sheep Ale (Special)</td>\n",
              "      <td>English Pale Ale</td>\n",
              "      <td>4.0</td>\n",
              "      <td>3.0</td>\n",
              "      <td>3.0</td>\n",
              "      <td>3.5</td>\n",
              "      <td>2.5</td>\n",
              "      <td>A: pours an amber with a one finger head but o...</td>\n",
              "    </tr>\n",
              "    <tr>\n",
              "      <th>...</th>\n",
              "      <td>...</td>\n",
              "      <td>...</td>\n",
              "      <td>...</td>\n",
              "      <td>...</td>\n",
              "      <td>...</td>\n",
              "      <td>...</td>\n",
              "      <td>...</td>\n",
              "      <td>...</td>\n",
              "      <td>...</td>\n",
              "      <td>...</td>\n",
              "    </tr>\n",
              "    <tr>\n",
              "      <th>37495</th>\n",
              "      <td>35175</td>\n",
              "      <td>5.50</td>\n",
              "      <td>Blackberry Scottish-Style</td>\n",
              "      <td>Fruit / Vegetable Beer</td>\n",
              "      <td>4.0</td>\n",
              "      <td>3.5</td>\n",
              "      <td>3.5</td>\n",
              "      <td>3.5</td>\n",
              "      <td>3.5</td>\n",
              "      <td>12 oz brown longneck with no freshness dating....</td>\n",
              "    </tr>\n",
              "    <tr>\n",
              "      <th>37496</th>\n",
              "      <td>23666</td>\n",
              "      <td>8.50</td>\n",
              "      <td>Founders Dirty Bastard</td>\n",
              "      <td>Scotch Ale / Wee Heavy</td>\n",
              "      <td>4.5</td>\n",
              "      <td>4.0</td>\n",
              "      <td>3.5</td>\n",
              "      <td>4.5</td>\n",
              "      <td>4.5</td>\n",
              "      <td>A - A bright red with a maroon-amber hue; mini...</td>\n",
              "    </tr>\n",
              "    <tr>\n",
              "      <th>37497</th>\n",
              "      <td>47720</td>\n",
              "      <td>4.75</td>\n",
              "      <td>Stoudt's Fest</td>\n",
              "      <td>MÃ¤rzen / Oktoberfest</td>\n",
              "      <td>4.0</td>\n",
              "      <td>3.5</td>\n",
              "      <td>4.0</td>\n",
              "      <td>4.5</td>\n",
              "      <td>4.0</td>\n",
              "      <td>Sampled on tap at Redbones.\\t\\tThis marzen sty...</td>\n",
              "    </tr>\n",
              "    <tr>\n",
              "      <th>37498</th>\n",
              "      <td>33233</td>\n",
              "      <td>11.20</td>\n",
              "      <td>Founders KBS (Kentucky Breakfast Stout)</td>\n",
              "      <td>American Double / Imperial Stout</td>\n",
              "      <td>4.0</td>\n",
              "      <td>4.0</td>\n",
              "      <td>4.0</td>\n",
              "      <td>5.0</td>\n",
              "      <td>5.0</td>\n",
              "      <td>Pours a black body with a brown head that very...</td>\n",
              "    </tr>\n",
              "    <tr>\n",
              "      <th>37499</th>\n",
              "      <td>23758</td>\n",
              "      <td>8.50</td>\n",
              "      <td>Founders Dirty Bastard</td>\n",
              "      <td>Scotch Ale / Wee Heavy</td>\n",
              "      <td>4.0</td>\n",
              "      <td>4.0</td>\n",
              "      <td>4.0</td>\n",
              "      <td>4.5</td>\n",
              "      <td>4.0</td>\n",
              "      <td>A nice sweet, malty beer...nothing complex, ju...</td>\n",
              "    </tr>\n",
              "  </tbody>\n",
              "</table>\n",
              "<p>37500 rows × 10 columns</p>\n",
              "</div>"
            ],
            "text/plain": [
              "       index  ...                                        review/text\n",
              "0      40163  ...  Pours a clouded gold with a thin white head. N...\n",
              "1       8135  ...  12oz bottle into 8oz snifter.\\t\\tDeep ruby red...\n",
              "2      10529  ...  First enjoyed at the brewpub about 2 years ago...\n",
              "3      44610  ...  First thing I noticed after pouring from green...\n",
              "4      37062  ...  A: pours an amber with a one finger head but o...\n",
              "...      ...  ...                                                ...\n",
              "37495  35175  ...  12 oz brown longneck with no freshness dating....\n",
              "37496  23666  ...  A - A bright red with a maroon-amber hue; mini...\n",
              "37497  47720  ...  Sampled on tap at Redbones.\\t\\tThis marzen sty...\n",
              "37498  33233  ...  Pours a black body with a brown head that very...\n",
              "37499  23758  ...  A nice sweet, malty beer...nothing complex, ju...\n",
              "\n",
              "[37500 rows x 10 columns]"
            ]
          },
          "metadata": {
            "tags": []
          },
          "execution_count": 5
        }
      ]
    },
    {
      "cell_type": "markdown",
      "metadata": {
        "id": "9uIB39XXkUT4"
      },
      "source": [
        "CORRELATION MATRIX"
      ]
    },
    {
      "cell_type": "code",
      "metadata": {
        "colab": {
          "base_uri": "https://localhost:8080/",
          "height": 206
        },
        "id": "UsZnNLMOj0LU",
        "outputId": "cec8e816-b2a2-40a8-d3a0-d71cc03b9cc4"
      },
      "source": [
        "data_corr = data[['review/appearance','review/overall','review/palate', 'review/taste', 'beer/ABV']].corr()\n",
        "data_corr"
      ],
      "execution_count": 6,
      "outputs": [
        {
          "output_type": "execute_result",
          "data": {
            "text/html": [
              "<div>\n",
              "<style scoped>\n",
              "    .dataframe tbody tr th:only-of-type {\n",
              "        vertical-align: middle;\n",
              "    }\n",
              "\n",
              "    .dataframe tbody tr th {\n",
              "        vertical-align: top;\n",
              "    }\n",
              "\n",
              "    .dataframe thead th {\n",
              "        text-align: right;\n",
              "    }\n",
              "</style>\n",
              "<table border=\"1\" class=\"dataframe\">\n",
              "  <thead>\n",
              "    <tr style=\"text-align: right;\">\n",
              "      <th></th>\n",
              "      <th>review/appearance</th>\n",
              "      <th>review/overall</th>\n",
              "      <th>review/palate</th>\n",
              "      <th>review/taste</th>\n",
              "      <th>beer/ABV</th>\n",
              "    </tr>\n",
              "  </thead>\n",
              "  <tbody>\n",
              "    <tr>\n",
              "      <th>review/appearance</th>\n",
              "      <td>1.000000</td>\n",
              "      <td>0.498733</td>\n",
              "      <td>0.555833</td>\n",
              "      <td>0.531676</td>\n",
              "      <td>0.288376</td>\n",
              "    </tr>\n",
              "    <tr>\n",
              "      <th>review/overall</th>\n",
              "      <td>0.498733</td>\n",
              "      <td>1.000000</td>\n",
              "      <td>0.697220</td>\n",
              "      <td>0.785220</td>\n",
              "      <td>0.197005</td>\n",
              "    </tr>\n",
              "    <tr>\n",
              "      <th>review/palate</th>\n",
              "      <td>0.555833</td>\n",
              "      <td>0.697220</td>\n",
              "      <td>1.000000</td>\n",
              "      <td>0.732092</td>\n",
              "      <td>0.350656</td>\n",
              "    </tr>\n",
              "    <tr>\n",
              "      <th>review/taste</th>\n",
              "      <td>0.531676</td>\n",
              "      <td>0.785220</td>\n",
              "      <td>0.732092</td>\n",
              "      <td>1.000000</td>\n",
              "      <td>0.354033</td>\n",
              "    </tr>\n",
              "    <tr>\n",
              "      <th>beer/ABV</th>\n",
              "      <td>0.288376</td>\n",
              "      <td>0.197005</td>\n",
              "      <td>0.350656</td>\n",
              "      <td>0.354033</td>\n",
              "      <td>1.000000</td>\n",
              "    </tr>\n",
              "  </tbody>\n",
              "</table>\n",
              "</div>"
            ],
            "text/plain": [
              "                   review/appearance  review/overall  ...  review/taste  beer/ABV\n",
              "review/appearance           1.000000        0.498733  ...      0.531676  0.288376\n",
              "review/overall              0.498733        1.000000  ...      0.785220  0.197005\n",
              "review/palate               0.555833        0.697220  ...      0.732092  0.350656\n",
              "review/taste                0.531676        0.785220  ...      1.000000  0.354033\n",
              "beer/ABV                    0.288376        0.197005  ...      0.354033  1.000000\n",
              "\n",
              "[5 rows x 5 columns]"
            ]
          },
          "metadata": {
            "tags": []
          },
          "execution_count": 6
        }
      ]
    },
    {
      "cell_type": "code",
      "metadata": {
        "colab": {
          "base_uri": "https://localhost:8080/",
          "height": 834
        },
        "id": "XTefXHsF7eV2",
        "outputId": "59e6a6b0-ab4d-4159-ae3e-48d86dd2d4e1"
      },
      "source": [
        "data_corr.reset_index(inplace=True)\n",
        "data_corr = data_corr.melt(id_vars='index', value_vars=['review/appearance','review/overall','review/palate', 'review/taste', 'beer/ABV'],  value_name='corr', var_name='attribute')\n",
        "data_corr"
      ],
      "execution_count": 7,
      "outputs": [
        {
          "output_type": "execute_result",
          "data": {
            "text/html": [
              "<div>\n",
              "<style scoped>\n",
              "    .dataframe tbody tr th:only-of-type {\n",
              "        vertical-align: middle;\n",
              "    }\n",
              "\n",
              "    .dataframe tbody tr th {\n",
              "        vertical-align: top;\n",
              "    }\n",
              "\n",
              "    .dataframe thead th {\n",
              "        text-align: right;\n",
              "    }\n",
              "</style>\n",
              "<table border=\"1\" class=\"dataframe\">\n",
              "  <thead>\n",
              "    <tr style=\"text-align: right;\">\n",
              "      <th></th>\n",
              "      <th>index</th>\n",
              "      <th>attribute</th>\n",
              "      <th>corr</th>\n",
              "    </tr>\n",
              "  </thead>\n",
              "  <tbody>\n",
              "    <tr>\n",
              "      <th>0</th>\n",
              "      <td>review/appearance</td>\n",
              "      <td>review/appearance</td>\n",
              "      <td>1.000000</td>\n",
              "    </tr>\n",
              "    <tr>\n",
              "      <th>1</th>\n",
              "      <td>review/overall</td>\n",
              "      <td>review/appearance</td>\n",
              "      <td>0.498733</td>\n",
              "    </tr>\n",
              "    <tr>\n",
              "      <th>2</th>\n",
              "      <td>review/palate</td>\n",
              "      <td>review/appearance</td>\n",
              "      <td>0.555833</td>\n",
              "    </tr>\n",
              "    <tr>\n",
              "      <th>3</th>\n",
              "      <td>review/taste</td>\n",
              "      <td>review/appearance</td>\n",
              "      <td>0.531676</td>\n",
              "    </tr>\n",
              "    <tr>\n",
              "      <th>4</th>\n",
              "      <td>beer/ABV</td>\n",
              "      <td>review/appearance</td>\n",
              "      <td>0.288376</td>\n",
              "    </tr>\n",
              "    <tr>\n",
              "      <th>5</th>\n",
              "      <td>review/appearance</td>\n",
              "      <td>review/overall</td>\n",
              "      <td>0.498733</td>\n",
              "    </tr>\n",
              "    <tr>\n",
              "      <th>6</th>\n",
              "      <td>review/overall</td>\n",
              "      <td>review/overall</td>\n",
              "      <td>1.000000</td>\n",
              "    </tr>\n",
              "    <tr>\n",
              "      <th>7</th>\n",
              "      <td>review/palate</td>\n",
              "      <td>review/overall</td>\n",
              "      <td>0.697220</td>\n",
              "    </tr>\n",
              "    <tr>\n",
              "      <th>8</th>\n",
              "      <td>review/taste</td>\n",
              "      <td>review/overall</td>\n",
              "      <td>0.785220</td>\n",
              "    </tr>\n",
              "    <tr>\n",
              "      <th>9</th>\n",
              "      <td>beer/ABV</td>\n",
              "      <td>review/overall</td>\n",
              "      <td>0.197005</td>\n",
              "    </tr>\n",
              "    <tr>\n",
              "      <th>10</th>\n",
              "      <td>review/appearance</td>\n",
              "      <td>review/palate</td>\n",
              "      <td>0.555833</td>\n",
              "    </tr>\n",
              "    <tr>\n",
              "      <th>11</th>\n",
              "      <td>review/overall</td>\n",
              "      <td>review/palate</td>\n",
              "      <td>0.697220</td>\n",
              "    </tr>\n",
              "    <tr>\n",
              "      <th>12</th>\n",
              "      <td>review/palate</td>\n",
              "      <td>review/palate</td>\n",
              "      <td>1.000000</td>\n",
              "    </tr>\n",
              "    <tr>\n",
              "      <th>13</th>\n",
              "      <td>review/taste</td>\n",
              "      <td>review/palate</td>\n",
              "      <td>0.732092</td>\n",
              "    </tr>\n",
              "    <tr>\n",
              "      <th>14</th>\n",
              "      <td>beer/ABV</td>\n",
              "      <td>review/palate</td>\n",
              "      <td>0.350656</td>\n",
              "    </tr>\n",
              "    <tr>\n",
              "      <th>15</th>\n",
              "      <td>review/appearance</td>\n",
              "      <td>review/taste</td>\n",
              "      <td>0.531676</td>\n",
              "    </tr>\n",
              "    <tr>\n",
              "      <th>16</th>\n",
              "      <td>review/overall</td>\n",
              "      <td>review/taste</td>\n",
              "      <td>0.785220</td>\n",
              "    </tr>\n",
              "    <tr>\n",
              "      <th>17</th>\n",
              "      <td>review/palate</td>\n",
              "      <td>review/taste</td>\n",
              "      <td>0.732092</td>\n",
              "    </tr>\n",
              "    <tr>\n",
              "      <th>18</th>\n",
              "      <td>review/taste</td>\n",
              "      <td>review/taste</td>\n",
              "      <td>1.000000</td>\n",
              "    </tr>\n",
              "    <tr>\n",
              "      <th>19</th>\n",
              "      <td>beer/ABV</td>\n",
              "      <td>review/taste</td>\n",
              "      <td>0.354033</td>\n",
              "    </tr>\n",
              "    <tr>\n",
              "      <th>20</th>\n",
              "      <td>review/appearance</td>\n",
              "      <td>beer/ABV</td>\n",
              "      <td>0.288376</td>\n",
              "    </tr>\n",
              "    <tr>\n",
              "      <th>21</th>\n",
              "      <td>review/overall</td>\n",
              "      <td>beer/ABV</td>\n",
              "      <td>0.197005</td>\n",
              "    </tr>\n",
              "    <tr>\n",
              "      <th>22</th>\n",
              "      <td>review/palate</td>\n",
              "      <td>beer/ABV</td>\n",
              "      <td>0.350656</td>\n",
              "    </tr>\n",
              "    <tr>\n",
              "      <th>23</th>\n",
              "      <td>review/taste</td>\n",
              "      <td>beer/ABV</td>\n",
              "      <td>0.354033</td>\n",
              "    </tr>\n",
              "    <tr>\n",
              "      <th>24</th>\n",
              "      <td>beer/ABV</td>\n",
              "      <td>beer/ABV</td>\n",
              "      <td>1.000000</td>\n",
              "    </tr>\n",
              "  </tbody>\n",
              "</table>\n",
              "</div>"
            ],
            "text/plain": [
              "                index          attribute      corr\n",
              "0   review/appearance  review/appearance  1.000000\n",
              "1      review/overall  review/appearance  0.498733\n",
              "2       review/palate  review/appearance  0.555833\n",
              "3        review/taste  review/appearance  0.531676\n",
              "4            beer/ABV  review/appearance  0.288376\n",
              "5   review/appearance     review/overall  0.498733\n",
              "6      review/overall     review/overall  1.000000\n",
              "7       review/palate     review/overall  0.697220\n",
              "8        review/taste     review/overall  0.785220\n",
              "9            beer/ABV     review/overall  0.197005\n",
              "10  review/appearance      review/palate  0.555833\n",
              "11     review/overall      review/palate  0.697220\n",
              "12      review/palate      review/palate  1.000000\n",
              "13       review/taste      review/palate  0.732092\n",
              "14           beer/ABV      review/palate  0.350656\n",
              "15  review/appearance       review/taste  0.531676\n",
              "16     review/overall       review/taste  0.785220\n",
              "17      review/palate       review/taste  0.732092\n",
              "18       review/taste       review/taste  1.000000\n",
              "19           beer/ABV       review/taste  0.354033\n",
              "20  review/appearance           beer/ABV  0.288376\n",
              "21     review/overall           beer/ABV  0.197005\n",
              "22      review/palate           beer/ABV  0.350656\n",
              "23       review/taste           beer/ABV  0.354033\n",
              "24           beer/ABV           beer/ABV  1.000000"
            ]
          },
          "metadata": {
            "tags": []
          },
          "execution_count": 7
        }
      ]
    },
    {
      "cell_type": "markdown",
      "metadata": {
        "id": "zmmWEtu3k9aa"
      },
      "source": [
        "SPLITTING THE DATASET INTO TRAIN AND TEST"
      ]
    },
    {
      "cell_type": "code",
      "metadata": {
        "id": "9cWUdAN28f7V"
      },
      "source": [
        "X = df[['review/appearance' ,'review/aroma' ,'review/palate' ,'review/taste','beer/ABV']]\n",
        "y = df[['review/overall']]\n",
        "train_X, test_X, train_y, test_y = train_test_split(X, y, random_state=42)"
      ],
      "execution_count": 8,
      "outputs": []
    },
    {
      "cell_type": "markdown",
      "metadata": {
        "id": "Z9Ue25oXko1c"
      },
      "source": [
        "APPLYING MULTIPLE REGRESSION"
      ]
    },
    {
      "cell_type": "code",
      "metadata": {
        "colab": {
          "base_uri": "https://localhost:8080/"
        },
        "id": "0OKAPe_g9xB5",
        "outputId": "bf310bbf-0c25-4def-872a-1741d897c644"
      },
      "source": [
        "linear_regression = LinearRegression()\n",
        "linear_regression.fit(train_X,train_y)"
      ],
      "execution_count": 9,
      "outputs": [
        {
          "output_type": "execute_result",
          "data": {
            "text/plain": [
              "LinearRegression(copy_X=True, fit_intercept=True, n_jobs=None, normalize=False)"
            ]
          },
          "metadata": {
            "tags": []
          },
          "execution_count": 9
        }
      ]
    },
    {
      "cell_type": "code",
      "metadata": {
        "id": "Du6gIOuI_dEs"
      },
      "source": [
        "pred= linear_regression.predict(test_X)"
      ],
      "execution_count": 10,
      "outputs": []
    },
    {
      "cell_type": "markdown",
      "metadata": {
        "id": "R4nx9A-ulYCl"
      },
      "source": [
        "CALCULATING MSE,MAE,RMSE"
      ]
    },
    {
      "cell_type": "code",
      "metadata": {
        "colab": {
          "base_uri": "https://localhost:8080/"
        },
        "id": "0ScyJBT7EbHB",
        "outputId": "99fdef03-564a-4709-f511-6a2015df6e64"
      },
      "source": [
        "from sklearn import metrics\n",
        "print('Mean Absolute Error:', metrics.mean_absolute_error(test_y, pred))\n",
        "print('Mean Squared Error:', metrics.mean_squared_error(test_y, pred))\n",
        "print('Root Mean Squared Error:', np.sqrt(metrics.mean_squared_error(test_y, pred)))"
      ],
      "execution_count": 11,
      "outputs": [
        {
          "output_type": "stream",
          "text": [
            "Mean Absolute Error: 0.3033285000237453\n",
            "Mean Squared Error: 0.16111008613418487\n",
            "Root Mean Squared Error: 0.40138520916220227\n"
          ],
          "name": "stdout"
        }
      ]
    },
    {
      "cell_type": "markdown",
      "metadata": {
        "id": "UdYMRROylfns"
      },
      "source": [
        "EFFECTS OF EACH INDEPENDENT VARIABLE ON DEPPENDENT VARIABLE "
      ]
    },
    {
      "cell_type": "code",
      "metadata": {
        "colab": {
          "base_uri": "https://localhost:8080/"
        },
        "id": "naRpM9cKHzKJ",
        "outputId": "fc690442-737d-48b5-bf6a-5fe1effc5644"
      },
      "source": [
        "coef=linear_regression.coef_\n",
        "coef"
      ],
      "execution_count": 12,
      "outputs": [
        {
          "output_type": "execute_result",
          "data": {
            "text/plain": [
              "array([[ 0.06607413,  0.09231651,  0.26558999,  0.54354021, -0.04218782]])"
            ]
          },
          "metadata": {
            "tags": []
          },
          "execution_count": 12
        }
      ]
    },
    {
      "cell_type": "markdown",
      "metadata": {
        "id": "5tMdoBLCqKnU"
      },
      "source": [
        "AS WE CAN SEE ABV(i.e VOLUME) OF ALCOHOL HAVE NEGATIVE EFFECT ON THE RATING WHEREAS REVIEW/TASTE HAS MAXIMUM IMPACT ON RATINGS THEN REVIEW/PALATE , BUT OTHER 2 VARIABLE ARE NOT AFFECTING MUCH.\n"
      ]
    },
    {
      "cell_type": "code",
      "metadata": {
        "colab": {
          "base_uri": "https://localhost:8080/"
        },
        "id": "OMUPLP06g_Yo",
        "outputId": "6c821f5c-ea99-4ebf-da72-70195b9cccce"
      },
      "source": [
        "import nltk \n",
        "nltk.download('stopwords')"
      ],
      "execution_count": 13,
      "outputs": [
        {
          "output_type": "stream",
          "text": [
            "[nltk_data] Downloading package stopwords to /root/nltk_data...\n",
            "[nltk_data]   Package stopwords is already up-to-date!\n"
          ],
          "name": "stdout"
        },
        {
          "output_type": "execute_result",
          "data": {
            "text/plain": [
              "True"
            ]
          },
          "metadata": {
            "tags": []
          },
          "execution_count": 13
        }
      ]
    },
    {
      "cell_type": "code",
      "metadata": {
        "colab": {
          "base_uri": "https://localhost:8080/"
        },
        "id": "xBAYzf2shk9b",
        "outputId": "7af88f78-5233-41d5-cf9e-52cd23d79bb8"
      },
      "source": [
        "nltk.download('punkt')"
      ],
      "execution_count": 14,
      "outputs": [
        {
          "output_type": "stream",
          "text": [
            "[nltk_data] Downloading package punkt to /root/nltk_data...\n",
            "[nltk_data]   Package punkt is already up-to-date!\n"
          ],
          "name": "stdout"
        },
        {
          "output_type": "execute_result",
          "data": {
            "text/plain": [
              "True"
            ]
          },
          "metadata": {
            "tags": []
          },
          "execution_count": 14
        }
      ]
    },
    {
      "cell_type": "code",
      "metadata": {
        "colab": {
          "base_uri": "https://localhost:8080/"
        },
        "id": "b7xJic9bhsso",
        "outputId": "5309e4b7-7577-465a-f273-c69a7428b9e3"
      },
      "source": [
        "nltk.download('wordnet')"
      ],
      "execution_count": 15,
      "outputs": [
        {
          "output_type": "stream",
          "text": [
            "[nltk_data] Downloading package wordnet to /root/nltk_data...\n",
            "[nltk_data]   Package wordnet is already up-to-date!\n"
          ],
          "name": "stdout"
        },
        {
          "output_type": "execute_result",
          "data": {
            "text/plain": [
              "True"
            ]
          },
          "metadata": {
            "tags": []
          },
          "execution_count": 15
        }
      ]
    },
    {
      "cell_type": "code",
      "metadata": {
        "id": "-mRpXmPU_cLk"
      },
      "source": [
        "#df['review/text']=df['review/text'].str.lower()\n",
        "#import string\n",
        "#df['review/text'] = df['review/text'].str.translate(str.maketrans(string.punctuation, ' '*len(string.punctuation)))\n",
        "#df['review/text']"
      ],
      "execution_count": 16,
      "outputs": []
    },
    {
      "cell_type": "markdown",
      "metadata": {
        "id": "iRs33mfcmKPr"
      },
      "source": [
        "2. EFFECT OF REVIEW/TEXT ON OVERALL_RATINGS\n",
        "  (TEXT PREPROCESSING)"
      ]
    },
    {
      "cell_type": "code",
      "metadata": {
        "colab": {
          "base_uri": "https://localhost:8080/"
        },
        "id": "PrpYQjkNIJPu",
        "outputId": "87430222-8cd3-4692-dc44-aa8aa6bbe695"
      },
      "source": [
        "stop_words=stopwords.words('english')\n",
        "wordnet_lemmatizer = WordNetLemmatizer()\n",
        "porter=PorterStemmer()\n",
        "\n",
        "def preprocess(text):\n",
        "    \n",
        "    text=str(text)\n",
        "    clean_text1=text.lower()\n",
        "    clean_text1=re.sub('[^a-zA-z]',' ',clean_text1)\n",
        "    clean_text1=word_tokenize(clean_text1)\n",
        "    clean_text1 = [i for i in clean_text1 if not i in stop_words]\n",
        "    #clean_text1 = [snowball_stemmer.stem(word) for word in text]\n",
        "    clean_text1=[wordnet_lemmatizer.lemmatize(word,pos=\"v\") for word in clean_text1]\n",
        "    clean_text1=\" \".join(clean_text1)\n",
        "    return(clean_text1)\n",
        "\n",
        "df['text1'] = df['review/text'].apply(preprocess)\n",
        "df['text1']\n"
      ],
      "execution_count": 17,
      "outputs": [
        {
          "output_type": "execute_result",
          "data": {
            "text/plain": [
              "0        pour cloud gold thin white head nose quite flo...\n",
              "1        oz bottle oz snifter deep ruby red hue one fin...\n",
              "2        first enjoy brewpub years ago finally manage g...\n",
              "3        first thing notice pour green bottle glass sku...\n",
              "4        pour amber one finger head strong pour head re...\n",
              "                               ...                        \n",
              "37495    oz brown longneck freshness date pour sa pint ...\n",
              "37496    bright red maroon amber hue minimal light tan ...\n",
              "37497    sample tap redbones marzen style beer pour cle...\n",
              "37498    pour black body brown head quickly fizzle away...\n",
              "37499    nice sweet malty beer nothing complex smooth r...\n",
              "Name: text1, Length: 37500, dtype: object"
            ]
          },
          "metadata": {
            "tags": []
          },
          "execution_count": 17
        }
      ]
    },
    {
      "cell_type": "code",
      "metadata": {
        "colab": {
          "base_uri": "https://localhost:8080/"
        },
        "id": "CMC7PQ2w-cef",
        "outputId": "61ac72b0-d4c0-4459-eb3a-3227e9912e2d"
      },
      "source": [
        "Train_X,Test_X,Train_Y,Test_Y=train_test_split(df['text1'], df['review/overall'], test_size=0.3)\n",
        "Train_X"
      ],
      "execution_count": 21,
      "outputs": [
        {
          "output_type": "execute_result",
          "data": {
            "text/plain": [
              "1600     fairly close black fluffy dark tan head stout ...\n",
              "12357    clear amber orange well define medium large si...\n",
              "8767     b r numerous occasion bomber pour standard pin...\n",
              "35757    base note earlier version date bottle pakc car...\n",
              "18692    pick michigan holiday look little viscous pour...\n",
              "                               ...                        \n",
              "33450    ounce bottle foodery pour duvel tulip bottle i...\n",
              "27364    thank go bwyker crack bottle open jet black mo...\n",
              "4611     pale lager beer like many others whitout parti...\n",
              "32216    pour felt somewhat cheat since say stout look ...\n",
              "18446    pour oily pure black rocky mocha head great re...\n",
              "Name: text1, Length: 26250, dtype: object"
            ]
          },
          "metadata": {
            "tags": []
          },
          "execution_count": 21
        }
      ]
    },
    {
      "cell_type": "markdown",
      "metadata": {
        "id": "5kHwO9b9rJkg"
      },
      "source": [
        "TF-IDF WEIGHTING"
      ]
    },
    {
      "cell_type": "code",
      "metadata": {
        "id": "_w2fn8V6XoSk"
      },
      "source": [
        "Tfidf_vect = TfidfVectorizer(max_features=5000)\n",
        "Tfidf_vect.fit(df['text1'])\n",
        "Train_X_Tfidf = Tfidf_vect.transform(Train_X)\n",
        "Test_X_Tfidf = Tfidf_vect.transform(Test_X)"
      ],
      "execution_count": 22,
      "outputs": []
    },
    {
      "cell_type": "markdown",
      "metadata": {
        "id": "3plDn14orPKi"
      },
      "source": [
        "MULTINOMIAL NAIVE-BAYES"
      ]
    },
    {
      "cell_type": "code",
      "metadata": {
        "colab": {
          "base_uri": "https://localhost:8080/"
        },
        "id": "85JJy8NvYG3Y",
        "outputId": "38b69fb8-03fd-4d88-d413-91e0ccbf1705"
      },
      "source": [
        "clf = MultinomialNB(alpha=0.1)\n",
        "last_score = 0\n",
        "for alpha in np.arange(0,1,.1):\n",
        "    nb_classifier = MultinomialNB(alpha=alpha)\n",
        "    Train_Y = Train_Y.astype('int')\n",
        "    Test_Y =Test_Y.astype('int')\n",
        "    nb_classifier.fit(Train_X_Tfidf, Train_Y)\n",
        "    pred = nb_classifier.predict(Test_X_Tfidf)\n",
        "    score = accuracy_score(pred,Test_Y)*100\n",
        "    if score > last_score:\n",
        "        clf = nb_classifier\n",
        "    print(\"Alpha: {:.2f} Score: {:.5f}\".format(alpha, score))"
      ],
      "execution_count": 24,
      "outputs": [
        {
          "output_type": "stream",
          "text": [
            "/usr/local/lib/python3.6/dist-packages/sklearn/naive_bayes.py:507: UserWarning: alpha too small will result in numeric errors, setting alpha = 1.0e-10\n",
            "  'setting alpha = %.1e' % _ALPHA_MIN)\n"
          ],
          "name": "stderr"
        },
        {
          "output_type": "stream",
          "text": [
            "Alpha: 0.00 Score: 63.91111\n",
            "Alpha: 0.10 Score: 64.01778\n",
            "Alpha: 0.20 Score: 64.05333\n",
            "Alpha: 0.30 Score: 63.97333\n",
            "Alpha: 0.40 Score: 63.90222\n",
            "Alpha: 0.50 Score: 63.76000\n",
            "Alpha: 0.60 Score: 63.62667\n",
            "Alpha: 0.70 Score: 63.53778\n",
            "Alpha: 0.80 Score: 63.40444\n",
            "Alpha: 0.90 Score: 63.25333\n"
          ],
          "name": "stdout"
        }
      ]
    },
    {
      "cell_type": "markdown",
      "metadata": {
        "id": "-qUaUUiPrUOF"
      },
      "source": [
        "PASSIVE AGGRESSIVE CLASSIFIER"
      ]
    },
    {
      "cell_type": "code",
      "metadata": {
        "colab": {
          "base_uri": "https://localhost:8080/"
        },
        "id": "XmyraRIHX0xN",
        "outputId": "7c70142d-bb0c-4083-cc53-134425e59358"
      },
      "source": [
        "linear_clf = PassiveAggressiveClassifier(max_iter=50)\n",
        "linear_clf.fit(Train_X_Tfidf, Train_Y)\n",
        "pred = linear_clf.predict(Test_X_Tfidf)\n",
        "score = accuracy_score(Test_Y, pred)*100\n",
        "print(\"accuracy:   %0.3f\" % score)"
      ],
      "execution_count": 25,
      "outputs": [
        {
          "output_type": "stream",
          "text": [
            "accuracy:   59.102\n"
          ],
          "name": "stdout"
        },
        {
          "output_type": "stream",
          "text": [
            "/usr/local/lib/python3.6/dist-packages/sklearn/linear_model/_stochastic_gradient.py:557: ConvergenceWarning: Maximum number of iteration reached before convergence. Consider increasing max_iter to improve the fit.\n",
            "  ConvergenceWarning)\n"
          ],
          "name": "stderr"
        }
      ]
    },
    {
      "cell_type": "markdown",
      "metadata": {
        "id": "35MDLx3orZom"
      },
      "source": [
        "SVM"
      ]
    },
    {
      "cell_type": "code",
      "metadata": {
        "id": "9lyyr0ApcASP"
      },
      "source": [
        "SVM = svm.SVC(C=1.0, kernel='linear', degree=3, gamma='auto')\n",
        "SVM.fit(Train_X_Tfidf,Train_Y)# predict the labels on validation dataset\n",
        "predictions_SVM = SVM.predict(Test_X_Tfidf)# Use accuracy_score function to get the accuracy\n",
        "print(\"SVM Accuracy Score -> \",accuracy_score(predictions_SVM, Test_Y)*100)"
      ],
      "execution_count": null,
      "outputs": []
    },
    {
      "cell_type": "code",
      "metadata": {
        "id": "wY0cSFYTdKst"
      },
      "source": [
        ""
      ],
      "execution_count": null,
      "outputs": []
    }
  ]
}